{
 "cells": [
  {
   "cell_type": "markdown",
   "id": "b3cbf7a3-88d1-47e2-b968-b0e0f9810363",
   "metadata": {},
   "source": [
    "## TP1 : analog electronics"
   ]
  },
  {
   "cell_type": "code",
   "execution_count": 2,
   "id": "55f4a4d7-1e97-4bd2-b9a2-9cd0de37ad57",
   "metadata": {},
   "outputs": [],
   "source": [
    "import pandas as pd\n"
   ]
  }
 ],
 "metadata": {
  "kernelspec": {
   "display_name": "Python",
   "language": "python",
   "name": "python3"
  },
  "language_info": {
   "codemirror_mode": {
    "name": "ipython",
    "version": 3
   },
   "file_extension": ".py",
   "mimetype": "text/x-python",
   "name": "python",
   "nbconvert_exporter": "python",
   "pygments_lexer": "ipython3",
   "version": "3.8.10"
  }
 },
 "nbformat": 4,
 "nbformat_minor": 5
}
